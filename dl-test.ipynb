{
 "cells": [
  {
   "cell_type": "markdown",
   "id": "f35d72af",
   "metadata": {},
   "source": [
    "## Topic 3: Classify Song Lyrics according to Genre\n",
    "In diesem Projekt wird überprüft inwiefern man mit Hilfe von Deep Learning das Genre eines Songs anhand seiner Lyrics vorhersagen kann. Die für dieses Projekt genutzten Daten stammen von https://www.kaggle.com/ und beinhalten Songtexte von über 200.000 Liedern von 3242 Artisten.\n",
    "\n",
    "## Daten\n",
    "Die Daten sind in zwei csv-Dateien aufgeteilt. In der Datei \"artists-data.csv\" werden Informationen zu den Artisten in der Form Artist, Songs, Popularity, Link, Genre, Genres gespeichert. Die Informationen zu den Songtext findet man in der Datei \"lyrics-data.csv\" in der Form ALink, SName, SLink, Lyric, Idiom.\n"
   ]
  },
  {
   "cell_type": "markdown",
   "id": "7606da43",
   "metadata": {},
   "source": [
    "Mit Hilfe des Moduls Pandas können die csv Dateien in sogenannte DataFrames gelesen werden, die die weitere Verarbeitung vereinfachen. Aufgrund der Aufgabenstellung werden nur englische Songtexte betrachtet. Die englischen Songtexte können anhand der Spalte Idiom erkannt werden. So werden alle Songtexte die in dieser Spalte nicht den Wert „English“ haben herausgefiltert. Es bleiben 114723 Songtexte übrig."
   ]
  },
  {
   "cell_type": "code",
   "execution_count": 1,
   "id": "224d1766",
   "metadata": {
    "scrolled": true
   },
   "outputs": [],
   "source": [
    "import pandas\n",
    "import matplotlib.pyplot as plt\n",
    "import numpy as np\n",
    "from keras import models\n",
    "from keras import layers\n",
    "from collections import Counter \n",
    "\n",
    "artists_path = \"data/artists-data.csv\"\n",
    "lyrics_path = \"data/lyrics-data.csv\"\n",
    "\n",
    "artists_data = pandas.read_csv(artists_path)\n",
    "lyrics_data = pandas.read_csv(lyrics_path)\n",
    "# lyrics_data = lyrics_data.drop_duplicates(subset =\"ALink\")\n",
    "\n",
    "# nur Englische Texte betrachten\n",
    "lyrics_data = lyrics_data[lyrics_data[\"Idiom\"] == 'ENGLISH']"
   ]
  },
  {
   "cell_type": "markdown",
   "id": "52735ea6",
   "metadata": {},
   "source": [
    "Um die Songtexte mit dem Genre zu verbinden werden nur die Spalten \"ALink\" und \"Lyric\" des lyrics_data DataFrames benötigt, sowie die Spalten \"Link\" und \"Genre\" des artists_data DataFrames benötigt. Alle anderen Spalten werden nicht mehr gebraucht."
   ]
  },
  {
   "cell_type": "code",
   "execution_count": 2,
   "id": "2b1d1fa3",
   "metadata": {},
   "outputs": [],
   "source": [
    "# Überflüssige Spalten enfternen\n",
    "lyrics_data = lyrics_data.drop(['SName', 'SLink', 'Idiom'], axis=1)\n",
    "\n",
    "# Überflüssige Spalten enfternen\n",
    "artists_data = artists_data.drop(['Songs', 'Popularity', 'Artist', 'Genres'], axis=1)"
   ]
  },
  {
   "cell_type": "markdown",
   "id": "b839c6a4",
   "metadata": {},
   "source": [
    "Zudem werden die Songtexte in Kleinbuchstaben umgewandelt."
   ]
  },
  {
   "cell_type": "code",
   "execution_count": 3,
   "id": "7f8c3a6e",
   "metadata": {},
   "outputs": [],
   "source": [
    "# Lyrics in Kleinbuchstaben kovertieren\n",
    "lyrics_data[\"Lyric\"] = lyrics_data[\"Lyric\"].apply(lambda x: x.lower())"
   ]
  },
  {
   "cell_type": "markdown",
   "id": "93573f23",
   "metadata": {},
   "source": [
    "Aufgrund erster Analysen konnten wird herausfinden, dass für die Genres „Sertanejo“, „Funk Carioca“ und „Samba“ nur ein sehr geringer Anteil an Songtexten in den Daten enthalten war. So sind diese Genres nur insgesamt 243 mal aufgetreten. Da dieser Anteil sehr gering ist konzentrieren wir uns auf die drei hauptsächlich vorkommenden Genres \"Rock, \"Hip Hop\" und \"Pop\"."
   ]
  },
  {
   "cell_type": "code",
   "execution_count": 4,
   "id": "7cd3d000",
   "metadata": {},
   "outputs": [],
   "source": [
    "# Sertanejo(87), Funk Carioca(104) und Samba(52) kommen in den englischsprachigen Lyrics zu selten vor\n",
    "artists_data = artists_data[artists_data.Genre.isin(['Rock', 'Hip Hop', 'Pop'])]"
   ]
  },
  {
   "cell_type": "markdown",
   "id": "c6cb65f8",
   "metadata": {},
   "source": [
    "Nun werden die beiden DataFrames zu einem vereint. Dies geschieht mit Hilfe der merge()-Methode, ebenfalls aus dem Modul \"pandas\". Wie bereits angesprochen werden die DataFrames aufgrund der Gleichheit der Spalten \"ALink\" und \"Link\" gemergt."
   ]
  },
  {
   "cell_type": "code",
   "execution_count": 5,
   "id": "c6fba873",
   "metadata": {},
   "outputs": [],
   "source": [
    "# Dataframes mergen, immer dann wenn 'ALink' == 'Link'\n",
    "merged_data = pandas.merge(lyrics_data, artists_data, how='inner', left_on='ALink', right_on='Link')"
   ]
  },
  {
   "cell_type": "markdown",
   "id": "a58f0b4c",
   "metadata": {},
   "source": [
    "Nun werden die Spalten \"Link\" und \"ALink\" ebenfalls nicht mehr benötigt. Alle übrigen Zeilen enthalten nun einen Songtext und das Genre, dem der zugehörige Artist, und somit auch der Songtext selbst, zugeordnet ist."
   ]
  },
  {
   "cell_type": "code",
   "execution_count": 6,
   "id": "06ebb1ad",
   "metadata": {},
   "outputs": [
    {
     "name": "stdout",
     "output_type": "stream",
     "text": [
      "                                                    Lyric Genre\n",
      "0       i could feel at the time. there was no way of ...  Rock\n",
      "1       i could feel at the time. there was no way of ...   Pop\n",
      "2       take me now, baby, here as i am. hold me close...  Rock\n",
      "3       take me now, baby, here as i am. hold me close...   Pop\n",
      "4       these are. these are days you'll remember. nev...  Rock\n",
      "...                                                   ...   ...\n",
      "123982  her face is a map of the world, is a map of th...  Rock\n",
      "123983  i can't believe the news today. i can't close ...  Rock\n",
      "123984  i was so high i did not recognize. the fire bu...  Rock\n",
      "123985  well sometimes i go out by myself. and i look ...  Rock\n",
      "123986  feeling my way through the darkness. guided by...  Rock\n",
      "\n",
      "[123987 rows x 2 columns]\n"
     ]
    }
   ],
   "source": [
    "# Überflüssige Spalten enfternen\n",
    "merged_data = merged_data.drop(['Link', 'ALink'], axis=1)\n",
    "print(merged_data)"
   ]
  },
  {
   "cell_type": "markdown",
   "id": "4f8a5585",
   "metadata": {},
   "source": [
    "Um einen Überblick über die verbleibenden Daten zu erhalten werden diese in Diagrammen dargestellt. Hierzu benötigen wir eine Liste aller noch vorhandenen Genres. Zudem benötigen wir die Anzahl der Songtexte insgesamt, sowie die Anzahl der Songtexte pro Genre. Mit diesen Daten können wir den prozentualen Anteil jedes Genres berechnen. Die Daten werden mithilfe des Moduls „matplotlib“ visualisiert."
   ]
  },
  {
   "cell_type": "code",
   "execution_count": 7,
   "id": "31b11b57",
   "metadata": {
    "scrolled": true
   },
   "outputs": [
    {
     "data": {
      "image/png": "[encoded data removed]",
      "text/plain": [
       "<Figure size 432x288 with 1 Axes>"
      ]
     },
     "metadata": {},
     "output_type": "display_data"
    }
   ],
   "source": [
    "# Anzahl der übrig gebliebenen Songtexte\n",
    "nr_of_songs = merged_data.count()[0]\n",
    "\n",
    "# Einzigartige Werte für das Genre herausfinden\n",
    "genres = merged_data['Genre'].unique()\n",
    "\n",
    "# Zweite Liste die die Anzahl der Songs pro Genre enthält\n",
    "songs_in_genre = []\n",
    "for genre in genres:\n",
    "    songs_in_genre.append((merged_data[\"Genre\"] == genre).value_counts()[1])                          \n",
    "\n",
    "# Werte in songs_in_genre durch nr_of_songs um prozentualen Anteil zu erhalten\n",
    "songs_in_genre_percent = songs_in_genre / nr_of_songs\n",
    "\n",
    "# Diagramm erstellen\n",
    "fig1, ax1 = plt.subplots()\n",
    "ax1.pie(songs_in_genre_percent, labels=genres, autopct='%1.1f%%',\n",
    "        shadow=False, startangle=90)\n",
    "ax1.axis('equal')\n",
    "\n",
    "plt.show()\n"
   ]
  },
  {
   "cell_type": "markdown",
   "id": "89f60745",
   "metadata": {},
   "source": [
    "Um als Eingabe für unsere späteren Modelle zu dienen werden die beiden Spalten in einzelne Vektoren aufgeteilt."
   ]
  },
  {
   "cell_type": "code",
   "execution_count": 8,
   "id": "1b85cd08",
   "metadata": {},
   "outputs": [
    {
     "name": "stdout",
     "output_type": "stream",
     "text": [
      "0         i could feel at the time. there was no way of ...\n",
      "1         i could feel at the time. there was no way of ...\n",
      "2         take me now, baby, here as i am. hold me close...\n",
      "3         take me now, baby, here as i am. hold me close...\n",
      "4         these are. these are days you'll remember. nev...\n",
      "                                ...                        \n",
      "123982    her face is a map of the world, is a map of th...\n",
      "123983    i can't believe the news today. i can't close ...\n",
      "123984    i was so high i did not recognize. the fire bu...\n",
      "123985    well sometimes i go out by myself. and i look ...\n",
      "123986    feeling my way through the darkness. guided by...\n",
      "Name: Lyric, Length: 123987, dtype: object\n",
      "0         Rock\n",
      "1          Pop\n",
      "2         Rock\n",
      "3          Pop\n",
      "4         Rock\n",
      "          ... \n",
      "123982    Rock\n",
      "123983    Rock\n",
      "123984    Rock\n",
      "123985    Rock\n",
      "123986    Rock\n",
      "Name: Genre, Length: 123987, dtype: object\n"
     ]
    }
   ],
   "source": [
    "lyrics_vec =  merged_data['Lyric']\n",
    "genre_vec =  merged_data['Genre']\n",
    "\n",
    "print(lyrics_vec)\n",
    "print(genre_vec)"
   ]
  }
 ],
 "metadata": {
  "kernelspec": {
   "display_name": "Python 3",
   "language": "python",
   "name": "python3"
  },
  "language_info": {
   "codemirror_mode": {
    "name": "ipython",
    "version": 3
   },
   "file_extension": ".py",
   "mimetype": "text/x-python",
   "name": "python",
   "nbconvert_exporter": "python",
   "pygments_lexer": "ipython3",
   "version": "3.7.10"
  }
 },
 "nbformat": 4,
 "nbformat_minor": 5
}
