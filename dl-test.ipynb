{
 "cells": [
  {
   "cell_type": "markdown",
   "id": "f35d72af",
   "metadata": {},
   "source": [
    "## Topic 3: Classify Song Lyrics according to Genre\n",
    "In diesem Projekt wird überprüft inwiefern man mit Hilfe von Deep Learning das Genre eines Songs anhand seiner Lyrics vorhersagen kann. Die für dieses Projekt genutzten Daten stammen von https://www.kaggle.com/ und beinhalten Songtexte von über 200.000 Liedern von 3242 Artisten.\n",
    "\n",
    "## Daten\n",
    "Die Daten sind in zwei csv-Dateien aufgeteilt. In der Datei \"artists-data.csv\" werden Informationen zu den Artisten in der Form Artist, Songs, Popularity, Link, Genre, Genres gespeichert. Die Informationen zu den Songtext findet man in der Datei \"lyrics-data.csv\" in der Form ALink, SName, SLink, Lyric, Idiom.\n"
   ]
  },
  {
   "cell_type": "markdown",
   "id": "bdb3b112",
   "metadata": {},
   "source": [
    "Mit Hilfe des Moduls Pandas können die csv Dateien in sogenannte DataFrames gelesen werden, die die weitere Verarbeitung vereinfachen. Aufgrund der Aufgabenstellung werden nur englische Songtexte betrachtet. Die englischen Songtexte können anhand der Spalte Idiom erkannt werden. So werden alle Songtexte die in dieser Spalte nicht den Wert „English“ haben herausgefiltert. Es bleiben 114723 Songtexte übrig."
   ]
  },
  {
   "cell_type": "code",
   "execution_count": 1,
   "id": "e2961391",
   "metadata": {
    "scrolled": true
   },
   "outputs": [],
   "source": [
    "import pandas\n",
    "import matplotlib.pyplot as plt\n",
    "import numpy as np\n",
    "from keras import models\n",
    "from keras import layers\n",
    "from collections import Counter \n",
    "\n",
    "artists_path = \"data/artists-data.csv\"\n",
    "lyrics_path = \"data/lyrics-data.csv\"\n",
    "\n",
    "artists_data = pandas.read_csv(artists_path)\n",
    "lyrics_data = pandas.read_csv(lyrics_path)\n",
    "# lyrics_data = lyrics_data.drop_duplicates(subset =\"ALink\")\n",
    "\n",
    "# nur Englische Texte betrachten\n",
    "lyrics_data = lyrics_data[lyrics_data[\"Idiom\"] == 'ENGLISH']"
   ]
  },
  {
   "cell_type": "markdown",
   "id": "b4bd2b48",
   "metadata": {},
   "source": [
    "Um die Songtexte mit dem Genre zu verbinden werden nur die Spalten \"ALink\" und \"Lyric\" des lyrics_data DataFrames benötigt, sowie die Spalten \"Link\" und \"Genre\" des artists_data DataFrames benötigt. Alle anderen Spalten werden nicht mehr gebraucht."
   ]
  },
  {
   "cell_type": "code",
   "execution_count": 2,
   "id": "78d5f31b",
   "metadata": {},
   "outputs": [],
   "source": [
    "# Überflüssige Spalten enfternen\n",
    "lyrics_data = lyrics_data.drop(['SName', 'SLink', 'Idiom'], axis=1)\n",
    "\n",
    "# Überflüssige Spalten enfternen\n",
    "artists_data = artists_data.drop(['Songs', 'Popularity', 'Artist', 'Genres'], axis=1)"
   ]
  },
  {
   "cell_type": "markdown",
   "id": "07166e9f",
   "metadata": {},
   "source": [
    "Zudem werden die Songtexte in Kleinbuchstaben umgewandelt."
   ]
  },
  {
   "cell_type": "code",
   "execution_count": 3,
   "id": "f7230e71",
   "metadata": {},
   "outputs": [],
   "source": [
    "# Lyrics in Kleinbuchstaben kovertieren\n",
    "lyrics_data[\"Lyric\"] = lyrics_data[\"Lyric\"].apply(lambda x: x.lower())"
   ]
  },
  {
   "cell_type": "markdown",
   "id": "822c8a5d",
   "metadata": {},
   "source": [
    "Aufgrund erster Analysen konnten wird herausfinden, dass für die Genres „Sertanejo“, „Funk Carioca“ und „Samba“ nur ein sehr geringer Anteil an Songtexten in den Daten enthalten war. So sind diese Genres nur insgesamt 243 mal aufgetreten. Da dieser Anteil sehr gering ist konzentrieren wir uns auf die drei hauptsächlich vorkommenden Genres \"Rock, \"Hip Hop\" und \"Pop\"."
   ]
  },
  {
   "cell_type": "code",
   "execution_count": 6,
   "id": "9abeb502",
   "metadata": {},
   "outputs": [],
   "source": [
    "# Sertanejo(87), Funk Carioca(104) und Samba(52) kommen in den englischsprachigen Lyrics zu selten vor\n",
    "artists_data = artists_data[artists_data.Genre.isin(['Rock', 'Hip Hop', 'Pop'])]"
   ]
  },
  {
   "cell_type": "markdown",
   "id": "6abf9c4e",
   "metadata": {},
   "source": [
    "Nun werden die beiden DataFrames zu einem vereint. Dies geschieht mit Hilfe der merge()-Methode, ebenfalls aus dem Modul \"pandas\". Wie bereits angesprochen werden die DataFrames aufgrund der Gleichheit der Spalten \"ALink\" und \"Link\" gemergt."
   ]
  },
  {
   "cell_type": "code",
   "execution_count": 7,
   "id": "e784a6ad",
   "metadata": {},
   "outputs": [],
   "source": [
    "# Dataframes mergen, immer dann wenn 'ALink' == 'Link'\n",
    "merged_data = pandas.merge(lyrics_data, artists_data, how='inner', left_on='ALink', right_on='Link')"
   ]
  },
  {
   "cell_type": "markdown",
   "id": "a6f31c98",
   "metadata": {},
   "source": [
    "Nun werden die Spalten \"Link\" und \"ALink\" ebenfalls nicht mehr benötigt. Alle übrigen Zeilen enthalten nun einen Songtext und das Genre, dem der zugehörige Artist, und somit auch der Songtext selbst, zugeordnet ist."
   ]
  },
  {
   "cell_type": "code",
   "execution_count": 8,
   "id": "5cee8150",
   "metadata": {},
   "outputs": [
    {
     "name": "stdout",
     "output_type": "stream",
     "text": [
      "                                                    Lyric Genre\n",
      "0       i could feel at the time. there was no way of ...  Rock\n",
      "1       i could feel at the time. there was no way of ...   Pop\n",
      "2       take me now, baby, here as i am. hold me close...  Rock\n",
      "3       take me now, baby, here as i am. hold me close...   Pop\n",
      "4       these are. these are days you'll remember. nev...  Rock\n",
      "...                                                   ...   ...\n",
      "123982  her face is a map of the world, is a map of th...  Rock\n",
      "123983  i can't believe the news today. i can't close ...  Rock\n",
      "123984  i was so high i did not recognize. the fire bu...  Rock\n",
      "123985  well sometimes i go out by myself. and i look ...  Rock\n",
      "123986  feeling my way through the darkness. guided by...  Rock\n",
      "\n",
      "[123987 rows x 2 columns]\n"
     ]
    }
   ],
   "source": [
    "# Überflüssige Spalten enfternen\n",
    "merged_data = merged_data.drop(['Link', 'ALink'], axis=1)\n",
    "print(merged_data)"
   ]
  },
  {
   "cell_type": "markdown",
   "id": "b4c4030f",
   "metadata": {},
   "source": [
    "Um einen Überblick über die verbleibenden Daten zu erhalten werden diese in Diagrammen dargestellt. Hierzu benötigen wir eine Liste aller noch vorhandenen Genres. Zudem benötigen wir die Anzahl der Songtexte insgesamt, sowie die Anzahl der Songtexte pro Genre. Mit diesen Daten können wir den prozentualen Anteil jedes Genres berechnen. Die Daten werden mithilfe des Moduls „matplotlib“ visualisiert."
   ]
  },
  {
   "cell_type": "code",
   "execution_count": 9,
   "id": "31b11b57",
   "metadata": {
    "scrolled": false
   },
   "outputs": [
    {
     "data": {
      "image/png": "[encoded data removed]",
      "text/plain": [
       "<Figure size 720x360 with 2 Axes>"
      ]
     },
     "metadata": {
      "needs_background": "light"
     },
     "output_type": "display_data"
    }
   ],
   "source": [
    "# Anzahl der übrig gebliebenen Songtexte\n",
    "nr_of_songs = merged_data.count()[0]\n",
    "\n",
    "# Einzigartige Werte für das Genre herausfinden\n",
    "genres = merged_data['Genre'].unique()\n",
    "\n",
    "# Zweite Liste die die Anzahl der Songs pro Genre enthält\n",
    "songs_in_genre = []\n",
    "for genre in genres:\n",
    "    songs_in_genre.append((merged_data[\"Genre\"] == genre).value_counts()[1])                          \n",
    "\n",
    "# Werte in songs_in_genre durch nr_of_songs um prozentualen Anteil zu erhalten\n",
    "songs_in_genre_percent = songs_in_genre / nr_of_songs\n",
    "\n",
    "# Diagramm erstellen\n",
    "colors = ['royalblue', 'Green', 'Orange']\n",
    "fig, axs = plt.subplots(1, 2, figsize=(10,5))\n",
    "axs[0].pie(songs_in_genre_percent, labels=genres, autopct='%1.1f%%',\n",
    "        shadow=False, startangle=90, colors=colors)\n",
    "axs[0].axis('equal')\n",
    "\n",
    "#fig = plt.figure()\n",
    "# axs[1] = fig.add_axes([0,0,1,1])\n",
    "axs[1].bar(genres, songs_in_genre, color=colors)\n",
    "plt.tight_layout()\n",
    "plt.show()\n"
   ]
  },
  {
   "cell_type": "markdown",
   "id": "6f1819da",
   "metadata": {},
   "source": [
    "Um als Eingabe für unsere späteren Modelle zu dienen werden die beiden Spalten in einzelne Vektoren aufgeteilt."
   ]
  },
  {
   "cell_type": "code",
   "execution_count": 10,
   "id": "61da7a9a",
   "metadata": {},
   "outputs": [
    {
     "name": "stdout",
     "output_type": "stream",
     "text": [
      "0         i could feel at the time. there was no way of ...\n",
      "1         i could feel at the time. there was no way of ...\n",
      "2         take me now, baby, here as i am. hold me close...\n",
      "3         take me now, baby, here as i am. hold me close...\n",
      "4         these are. these are days you'll remember. nev...\n",
      "                                ...                        \n",
      "123982    her face is a map of the world, is a map of th...\n",
      "123983    i can't believe the news today. i can't close ...\n",
      "123984    i was so high i did not recognize. the fire bu...\n",
      "123985    well sometimes i go out by myself. and i look ...\n",
      "123986    feeling my way through the darkness. guided by...\n",
      "Name: Lyric, Length: 123987, dtype: object\n",
      "0         Rock\n",
      "1          Pop\n",
      "2         Rock\n",
      "3          Pop\n",
      "4         Rock\n",
      "          ... \n",
      "123982    Rock\n",
      "123983    Rock\n",
      "123984    Rock\n",
      "123985    Rock\n",
      "123986    Rock\n",
      "Name: Genre, Length: 123987, dtype: object\n"
     ]
    }
   ],
   "source": [
    "lyrics_vec =  merged_data['Lyric']\n",
    "genre_vec =  merged_data['Genre']\n",
    "\n",
    "print(lyrics_vec)\n",
    "print(genre_vec)"
   ]
  },
  {
   "cell_type": "code",
   "execution_count": 11,
   "id": "3299a209",
   "metadata": {},
   "outputs": [],
   "source": [
    "replacement = {',','.','(',')','[chorus:]','-','/','?','!','[','&',']','\"'}\n",
    "for index, lyric in enumerate(merged_data[\"Lyric\"]):\n",
    "    for repl in replacement:\n",
    "        #Ersetze Wörter durch Leerzeichen:\n",
    "        merged_data[\"Lyric\"][index] = merged_data[\"Lyric\"][index].replace(repl, ' ')"
   ]
  },
  {
   "cell_type": "code",
   "execution_count": 12,
   "id": "5519dd37",
   "metadata": {},
   "outputs": [],
   "source": [
    "#Word Index mit den meisten 10.100:\n",
    "word_index = Counter(\" \".join(merged_data[\"Lyric\"]).split()).most_common(10100)\n",
    "#Lösche 100 häufigste Wörter raus\n",
    "word_index = word_index[100:]"
   ]
  },
  {
   "cell_type": "code",
   "execution_count": 13,
   "id": "e9b449b2",
   "metadata": {},
   "outputs": [],
   "source": [
    "most_common = []\n",
    "for t in word_index:\n",
    "    most_common.append(t[0])\n",
    "\n",
    "# print(len(most_common))\n",
    "# print(most_common)\n",
    "xdata = []\n",
    "xdata_boolean = []\n",
    "xdata_count = []\n",
    "for lyric in merged_data['Lyric']:\n",
    "    lyric_words_count = []\n",
    "    cleared_lyrics_boolean = []\n",
    "    for words in most_common:\n",
    "        count = lyric.count(\" \" + words + \" \")\n",
    "        lyric_words_count.append(count)\n",
    "        if count != 0:\n",
    "            cleared_lyrics_boolean.append(1)\n",
    "        else:\n",
    "            cleared_lyrics_boolean.append(0)\n",
    "            \n",
    "    xdata_count.append(lyric_words_count)\n",
    "    xdata_boolean.append(cleared_lyrics_boolean)\n",
    "# print(xdata_count[0])"
   ]
  },
  {
   "cell_type": "code",
   "execution_count": 14,
   "id": "3e423725",
   "metadata": {},
   "outputs": [],
   "source": [
    "ydata = []\n",
    "ydata_integer = []\n",
    "# One Hot Encoding für das Genre:\n",
    "for genre in merged_data['Genre']:\n",
    "    if genre == \"Rock\":\n",
    "        ydata_integer.append([1, 0, 0]);\n",
    "        ydata.append(0);\n",
    "\n",
    "    elif genre == \"Pop\":\n",
    "        ydata_integer.append([0, 1, 0]);\n",
    "        ydata.append(1);\n",
    "\n",
    "    elif genre == \"Hip Hop\":\n",
    "        ydata_integer.append([0, 0, 1]);\n",
    "        ydata.append(2);"
   ]
  },
  {
   "cell_type": "code",
   "execution_count": 21,
   "id": "28305511",
   "metadata": {},
   "outputs": [
    {
     "name": "stdout",
     "output_type": "stream",
     "text": [
      "Model: \"sequential\"\n",
      "_________________________________________________________________\n",
      "Layer (type)                 Output Shape              Param #   \n",
      "=================================================================\n",
      "dense (Dense)                (None, 128)               1280128   \n",
      "_________________________________________________________________\n",
      "dense_1 (Dense)              (None, 64)                8256      \n",
      "_________________________________________________________________\n",
      "dense_2 (Dense)              (None, 32)                2080      \n",
      "_________________________________________________________________\n",
      "dense_3 (Dense)              (None, 3)                 99        \n",
      "=================================================================\n",
      "Total params: 1,290,563\n",
      "Trainable params: 1,290,563\n",
      "Non-trainable params: 0\n",
      "_________________________________________________________________\n",
      "Epoch 1/100\n",
      "794/794 [==============================] - 5s 6ms/step - loss: 0.5991 - accuracy: 0.5339 - val_loss: 0.5356 - val_accuracy: 0.6027\n",
      "Epoch 2/100\n",
      "794/794 [==============================] - 4s 6ms/step - loss: 0.4971 - accuracy: 0.6353 - val_loss: 0.4829 - val_accuracy: 0.6437\n",
      "Epoch 3/100\n",
      "794/794 [==============================] - 5s 6ms/step - loss: 0.4630 - accuracy: 0.6619 - val_loss: 0.4654 - val_accuracy: 0.6579\n",
      "Epoch 4/100\n",
      "794/794 [==============================] - 5s 6ms/step - loss: 0.4463 - accuracy: 0.6759 - val_loss: 0.4557 - val_accuracy: 0.6658\n",
      "Epoch 5/100\n",
      "794/794 [==============================] - 5s 6ms/step - loss: 0.4340 - accuracy: 0.6864 - val_loss: 0.4499 - val_accuracy: 0.6717\n",
      "Epoch 6/100\n",
      "794/794 [==============================] - 5s 6ms/step - loss: 0.4236 - accuracy: 0.6957 - val_loss: 0.4455 - val_accuracy: 0.6734\n",
      "Epoch 7/100\n",
      "794/794 [==============================] - 5s 6ms/step - loss: 0.4140 - accuracy: 0.7038 - val_loss: 0.4413 - val_accuracy: 0.6764\n",
      "Epoch 8/100\n",
      "794/794 [==============================] - 5s 6ms/step - loss: 0.4047 - accuracy: 0.7104 - val_loss: 0.4394 - val_accuracy: 0.6776\n",
      "Epoch 9/100\n",
      "794/794 [==============================] - 5s 6ms/step - loss: 0.3956 - accuracy: 0.7176 - val_loss: 0.4368 - val_accuracy: 0.6776\n",
      "Epoch 10/100\n",
      "794/794 [==============================] - 5s 6ms/step - loss: 0.3862 - accuracy: 0.7269 - val_loss: 0.4354 - val_accuracy: 0.6779\n",
      "Epoch 11/100\n",
      "794/794 [==============================] - 5s 6ms/step - loss: 0.3768 - accuracy: 0.7341 - val_loss: 0.4339 - val_accuracy: 0.6794\n",
      "Epoch 12/100\n",
      "794/794 [==============================] - 5s 6ms/step - loss: 0.3674 - accuracy: 0.7419 - val_loss: 0.4353 - val_accuracy: 0.6815\n",
      "Epoch 13/100\n",
      "794/794 [==============================] - 5s 6ms/step - loss: 0.3576 - accuracy: 0.7502 - val_loss: 0.4344 - val_accuracy: 0.6800\n",
      "Epoch 14/100\n",
      "794/794 [==============================] - 5s 6ms/step - loss: 0.3477 - accuracy: 0.7586 - val_loss: 0.4358 - val_accuracy: 0.6848\n",
      "Epoch 15/100\n",
      "794/794 [==============================] - 5s 6ms/step - loss: 0.3377 - accuracy: 0.7654 - val_loss: 0.4405 - val_accuracy: 0.6801\n",
      "Epoch 16/100\n",
      "794/794 [==============================] - 5s 6ms/step - loss: 0.3281 - accuracy: 0.7728 - val_loss: 0.4419 - val_accuracy: 0.6808\n",
      "Epoch 17/100\n",
      "794/794 [==============================] - 5s 7ms/step - loss: 0.3180 - accuracy: 0.7832 - val_loss: 0.4476 - val_accuracy: 0.6795\n",
      "Epoch 18/100\n",
      "794/794 [==============================] - 5s 6ms/step - loss: 0.3079 - accuracy: 0.7893 - val_loss: 0.4501 - val_accuracy: 0.6780\n",
      "Epoch 19/100\n",
      "794/794 [==============================] - 5s 6ms/step - loss: 0.2981 - accuracy: 0.7965 - val_loss: 0.4566 - val_accuracy: 0.6766\n",
      "Epoch 20/100\n",
      "794/794 [==============================] - 5s 6ms/step - loss: 0.2894 - accuracy: 0.8028 - val_loss: 0.4594 - val_accuracy: 0.6820\n",
      "Epoch 21/100\n",
      "794/794 [==============================] - 5s 6ms/step - loss: 0.2800 - accuracy: 0.8096 - val_loss: 0.4734 - val_accuracy: 0.6771\n",
      "Epoch 22/100\n",
      "794/794 [==============================] - 5s 6ms/step - loss: 0.2710 - accuracy: 0.8159 - val_loss: 0.4764 - val_accuracy: 0.6770\n",
      "Epoch 23/100\n",
      "794/794 [==============================] - 5s 6ms/step - loss: 0.2640 - accuracy: 0.8206 - val_loss: 0.4818 - val_accuracy: 0.6765\n",
      "Epoch 24/100\n",
      "794/794 [==============================] - 5s 6ms/step - loss: 0.2562 - accuracy: 0.8269 - val_loss: 0.4885 - val_accuracy: 0.6755\n",
      "Epoch 25/100\n",
      "794/794 [==============================] - 5s 6ms/step - loss: 0.2486 - accuracy: 0.8328 - val_loss: 0.4968 - val_accuracy: 0.6744\n",
      "Epoch 26/100\n",
      "794/794 [==============================] - 5s 6ms/step - loss: 0.2431 - accuracy: 0.8365 - val_loss: 0.5041 - val_accuracy: 0.6750\n",
      "Epoch 27/100\n",
      "794/794 [==============================] - 5s 6ms/step - loss: 0.2364 - accuracy: 0.8407 - val_loss: 0.5090 - val_accuracy: 0.6717\n",
      "Epoch 28/100\n",
      "794/794 [==============================] - 5s 6ms/step - loss: 0.2324 - accuracy: 0.8454 - val_loss: 0.5234 - val_accuracy: 0.6732\n",
      "Epoch 29/100\n",
      "794/794 [==============================] - 5s 6ms/step - loss: 0.2262 - accuracy: 0.8482 - val_loss: 0.5380 - val_accuracy: 0.6790\n",
      "Epoch 30/100\n",
      "794/794 [==============================] - 5s 6ms/step - loss: 0.2219 - accuracy: 0.8497 - val_loss: 0.5275 - val_accuracy: 0.6690\n",
      "Epoch 31/100\n",
      "794/794 [==============================] - 5s 6ms/step - loss: 0.2163 - accuracy: 0.8538 - val_loss: 0.5398 - val_accuracy: 0.6680\n",
      "Epoch 32/100\n",
      "794/794 [==============================] - 5s 6ms/step - loss: 0.2134 - accuracy: 0.8551 - val_loss: 0.5485 - val_accuracy: 0.6762\n",
      "Epoch 33/100\n",
      "794/794 [==============================] - 5s 6ms/step - loss: 0.2089 - accuracy: 0.8585 - val_loss: 0.5495 - val_accuracy: 0.6681\n",
      "Epoch 34/100\n",
      "794/794 [==============================] - 5s 6ms/step - loss: 0.2060 - accuracy: 0.8594 - val_loss: 0.5604 - val_accuracy: 0.6719\n",
      "Epoch 35/100\n",
      "794/794 [==============================] - 5s 6ms/step - loss: 0.2020 - accuracy: 0.8624 - val_loss: 0.5639 - val_accuracy: 0.6742\n",
      "Epoch 36/100\n",
      "794/794 [==============================] - 5s 6ms/step - loss: 0.1993 - accuracy: 0.8643 - val_loss: 0.5803 - val_accuracy: 0.6568\n",
      "Epoch 37/100\n",
      "794/794 [==============================] - 5s 6ms/step - loss: 0.1963 - accuracy: 0.8653 - val_loss: 0.5779 - val_accuracy: 0.6744\n",
      "Epoch 38/100\n",
      "794/794 [==============================] - 5s 7ms/step - loss: 0.1929 - accuracy: 0.8682 - val_loss: 0.6147 - val_accuracy: 0.6761\n",
      "Epoch 39/100\n",
      "794/794 [==============================] - 5s 7ms/step - loss: 0.1912 - accuracy: 0.8698 - val_loss: 0.5885 - val_accuracy: 0.6745\n",
      "Epoch 40/100\n",
      "794/794 [==============================] - 5s 6ms/step - loss: 0.1885 - accuracy: 0.8692 - val_loss: 0.5835 - val_accuracy: 0.6754\n",
      "Epoch 41/100\n",
      "794/794 [==============================] - 5s 7ms/step - loss: 0.1861 - accuracy: 0.8717 - val_loss: 0.5958 - val_accuracy: 0.6753\n",
      "Epoch 42/100\n",
      "794/794 [==============================] - 5s 6ms/step - loss: 0.1844 - accuracy: 0.8713 - val_loss: 0.5986 - val_accuracy: 0.6721\n",
      "Epoch 43/100\n",
      "794/794 [==============================] - 5s 6ms/step - loss: 0.1823 - accuracy: 0.8719 - val_loss: 0.5970 - val_accuracy: 0.6735\n",
      "Epoch 44/100\n",
      "794/794 [==============================] - 5s 7ms/step - loss: 0.1795 - accuracy: 0.8734 - val_loss: 0.5979 - val_accuracy: 0.6705\n",
      "Epoch 45/100\n",
      "794/794 [==============================] - 5s 7ms/step - loss: 0.1782 - accuracy: 0.8726 - val_loss: 0.6042 - val_accuracy: 0.6761\n",
      "Epoch 46/100\n",
      "794/794 [==============================] - 6s 7ms/step - loss: 0.1757 - accuracy: 0.8758 - val_loss: 0.6095 - val_accuracy: 0.6778\n",
      "Epoch 47/100\n",
      "794/794 [==============================] - 5s 7ms/step - loss: 0.1738 - accuracy: 0.8757 - val_loss: 0.6106 - val_accuracy: 0.6692\n",
      "Epoch 48/100\n",
      "794/794 [==============================] - 5s 6ms/step - loss: 0.1726 - accuracy: 0.8769 - val_loss: 0.6005 - val_accuracy: 0.6726\n",
      "Epoch 49/100\n",
      "794/794 [==============================] - 5s 6ms/step - loss: 0.1709 - accuracy: 0.8763 - val_loss: 0.6076 - val_accuracy: 0.6734\n",
      "Epoch 50/100\n",
      "794/794 [==============================] - 5s 7ms/step - loss: 0.1689 - accuracy: 0.8768 - val_loss: 0.6175 - val_accuracy: 0.6683\n",
      "Epoch 51/100\n",
      "794/794 [==============================] - 5s 7ms/step - loss: 0.1682 - accuracy: 0.8771 - val_loss: 0.6144 - val_accuracy: 0.6690\n"
     ]
    },
    {
     "name": "stdout",
     "output_type": "stream",
     "text": [
      "Epoch 52/100\n",
      "794/794 [==============================] - 5s 7ms/step - loss: 0.1667 - accuracy: 0.8777 - val_loss: 0.6198 - val_accuracy: 0.6720\n",
      "Epoch 53/100\n",
      "794/794 [==============================] - 5s 7ms/step - loss: 0.1656 - accuracy: 0.8770 - val_loss: 0.6441 - val_accuracy: 0.6740\n",
      "Epoch 54/100\n",
      "794/794 [==============================] - 5s 6ms/step - loss: 0.1639 - accuracy: 0.8778 - val_loss: 0.6221 - val_accuracy: 0.6708\n",
      "Epoch 55/100\n",
      "794/794 [==============================] - 5s 6ms/step - loss: 0.1626 - accuracy: 0.8798 - val_loss: 0.6240 - val_accuracy: 0.6743\n",
      "Epoch 56/100\n",
      "794/794 [==============================] - 5s 6ms/step - loss: 0.1614 - accuracy: 0.8784 - val_loss: 0.6233 - val_accuracy: 0.6695\n",
      "Epoch 57/100\n",
      "794/794 [==============================] - 5s 6ms/step - loss: 0.1607 - accuracy: 0.8791 - val_loss: 0.6355 - val_accuracy: 0.6734\n",
      "Epoch 58/100\n",
      "794/794 [==============================] - 5s 6ms/step - loss: 0.1592 - accuracy: 0.8788 - val_loss: 0.6320 - val_accuracy: 0.6686\n",
      "Epoch 59/100\n",
      "794/794 [==============================] - 5s 7ms/step - loss: 0.1586 - accuracy: 0.8803 - val_loss: 0.6328 - val_accuracy: 0.6700\n",
      "Epoch 60/100\n",
      "794/794 [==============================] - 5s 6ms/step - loss: 0.1571 - accuracy: 0.8799 - val_loss: 0.6342 - val_accuracy: 0.6706\n",
      "Epoch 61/100\n",
      "794/794 [==============================] - 5s 6ms/step - loss: 0.1562 - accuracy: 0.8804 - val_loss: 0.6367 - val_accuracy: 0.6714\n",
      "Epoch 62/100\n",
      "794/794 [==============================] - 5s 7ms/step - loss: 0.1559 - accuracy: 0.8814 - val_loss: 0.6367 - val_accuracy: 0.6673\n",
      "Epoch 63/100\n",
      "794/794 [==============================] - 5s 7ms/step - loss: 0.1544 - accuracy: 0.8803 - val_loss: 0.6449 - val_accuracy: 0.6719\n",
      "Epoch 64/100\n",
      "794/794 [==============================] - 5s 7ms/step - loss: 0.1540 - accuracy: 0.8806 - val_loss: 0.6388 - val_accuracy: 0.6674\n",
      "Epoch 65/100\n",
      "794/794 [==============================] - 6s 7ms/step - loss: 0.1525 - accuracy: 0.8819 - val_loss: 0.6373 - val_accuracy: 0.6674\n",
      "Epoch 66/100\n",
      "794/794 [==============================] - 6s 7ms/step - loss: 0.1517 - accuracy: 0.8812 - val_loss: 0.6445 - val_accuracy: 0.6690\n",
      "Epoch 67/100\n",
      "794/794 [==============================] - 5s 7ms/step - loss: 0.1511 - accuracy: 0.8821 - val_loss: 0.6485 - val_accuracy: 0.6736\n",
      "Epoch 68/100\n",
      "794/794 [==============================] - 6s 7ms/step - loss: 0.1500 - accuracy: 0.8815 - val_loss: 0.6498 - val_accuracy: 0.6740\n",
      "Epoch 69/100\n",
      "794/794 [==============================] - 6s 7ms/step - loss: 0.1493 - accuracy: 0.8819 - val_loss: 0.6497 - val_accuracy: 0.6704\n",
      "Epoch 70/100\n",
      "794/794 [==============================] - 6s 8ms/step - loss: 0.1487 - accuracy: 0.8813 - val_loss: 0.6592 - val_accuracy: 0.6700\n",
      "Epoch 71/100\n",
      "794/794 [==============================] - 6s 8ms/step - loss: 0.1482 - accuracy: 0.8819 - val_loss: 0.6658 - val_accuracy: 0.6742\n",
      "Epoch 72/100\n",
      "794/794 [==============================] - 6s 8ms/step - loss: 0.1478 - accuracy: 0.8816 - val_loss: 0.6606 - val_accuracy: 0.6687\n",
      "Epoch 73/100\n",
      "794/794 [==============================] - 6s 7ms/step - loss: 0.1468 - accuracy: 0.8829 - val_loss: 0.6551 - val_accuracy: 0.6658\n",
      "Epoch 74/100\n",
      "794/794 [==============================] - 5s 7ms/step - loss: 0.1464 - accuracy: 0.8824 - val_loss: 0.6705 - val_accuracy: 0.6711\n",
      "Epoch 75/100\n",
      "794/794 [==============================] - 5s 7ms/step - loss: 0.1455 - accuracy: 0.8830 - val_loss: 0.6660 - val_accuracy: 0.6710\n",
      "Epoch 76/100\n",
      "794/794 [==============================] - 6s 7ms/step - loss: 0.1446 - accuracy: 0.8829 - val_loss: 0.6652 - val_accuracy: 0.6676\n",
      "Epoch 77/100\n",
      "794/794 [==============================] - 5s 7ms/step - loss: 0.1439 - accuracy: 0.8831 - val_loss: 0.6651 - val_accuracy: 0.6680\n",
      "Epoch 78/100\n",
      "794/794 [==============================] - 6s 7ms/step - loss: 0.1438 - accuracy: 0.8832 - val_loss: 0.6648 - val_accuracy: 0.6709\n",
      "Epoch 79/100\n",
      "794/794 [==============================] - 6s 7ms/step - loss: 0.1431 - accuracy: 0.8829 - val_loss: 0.6592 - val_accuracy: 0.6717\n",
      "Epoch 80/100\n",
      "794/794 [==============================] - 5s 7ms/step - loss: 0.1425 - accuracy: 0.8834 - val_loss: 0.6748 - val_accuracy: 0.6713\n",
      "Epoch 81/100\n",
      "794/794 [==============================] - 6s 7ms/step - loss: 0.1424 - accuracy: 0.8830 - val_loss: 0.6744 - val_accuracy: 0.6716\n",
      "Epoch 82/100\n",
      "794/794 [==============================] - 6s 7ms/step - loss: 0.1416 - accuracy: 0.8827 - val_loss: 0.6696 - val_accuracy: 0.6689\n",
      "Epoch 83/100\n",
      "794/794 [==============================] - 6s 7ms/step - loss: 0.1415 - accuracy: 0.8826 - val_loss: 0.6857 - val_accuracy: 0.6745\n",
      "Epoch 84/100\n",
      "794/794 [==============================] - 6s 7ms/step - loss: 0.1406 - accuracy: 0.8828 - val_loss: 0.6746 - val_accuracy: 0.6673\n",
      "Epoch 85/100\n",
      "794/794 [==============================] - 6s 7ms/step - loss: 0.1400 - accuracy: 0.8827 - val_loss: 0.6740 - val_accuracy: 0.6662\n",
      "Epoch 86/100\n",
      "794/794 [==============================] - 6s 7ms/step - loss: 0.1400 - accuracy: 0.8828 - val_loss: 0.6696 - val_accuracy: 0.6636\n",
      "Epoch 87/100\n",
      "794/794 [==============================] - 6s 7ms/step - loss: 0.1390 - accuracy: 0.8833 - val_loss: 0.6819 - val_accuracy: 0.6699\n",
      "Epoch 88/100\n",
      "794/794 [==============================] - 6s 7ms/step - loss: 0.1386 - accuracy: 0.8842 - val_loss: 0.6788 - val_accuracy: 0.6705\n",
      "Epoch 89/100\n",
      "794/794 [==============================] - 6s 7ms/step - loss: 0.1379 - accuracy: 0.8843 - val_loss: 0.6736 - val_accuracy: 0.6691\n",
      "Epoch 90/100\n",
      "794/794 [==============================] - 6s 8ms/step - loss: 0.1380 - accuracy: 0.8832 - val_loss: 0.6763 - val_accuracy: 0.6657\n",
      "Epoch 91/100\n",
      "794/794 [==============================] - 6s 7ms/step - loss: 0.1372 - accuracy: 0.8843 - val_loss: 0.6961 - val_accuracy: 0.6723\n",
      "Epoch 92/100\n",
      "794/794 [==============================] - 6s 7ms/step - loss: 0.1372 - accuracy: 0.8833 - val_loss: 0.6778 - val_accuracy: 0.6652\n",
      "Epoch 93/100\n",
      "794/794 [==============================] - 6s 7ms/step - loss: 0.1363 - accuracy: 0.8838 - val_loss: 0.6914 - val_accuracy: 0.6711\n",
      "Epoch 94/100\n",
      "794/794 [==============================] - 6s 7ms/step - loss: 0.1362 - accuracy: 0.8842 - val_loss: 0.6853 - val_accuracy: 0.6676\n",
      "Epoch 95/100\n",
      "794/794 [==============================] - 6s 7ms/step - loss: 0.1358 - accuracy: 0.8836 - val_loss: 0.6977 - val_accuracy: 0.6744\n",
      "Epoch 96/100\n",
      "794/794 [==============================] - 6s 7ms/step - loss: 0.1360 - accuracy: 0.8843 - val_loss: 0.6860 - val_accuracy: 0.6715\n",
      "Epoch 97/100\n",
      "794/794 [==============================] - 6s 7ms/step - loss: 0.1353 - accuracy: 0.8832 - val_loss: 0.7032 - val_accuracy: 0.6738\n",
      "Epoch 98/100\n",
      "794/794 [==============================] - 6s 7ms/step - loss: 0.1349 - accuracy: 0.8841 - val_loss: 0.6915 - val_accuracy: 0.6703\n",
      "Epoch 99/100\n",
      "794/794 [==============================] - 6s 7ms/step - loss: 0.1341 - accuracy: 0.8850 - val_loss: 0.7024 - val_accuracy: 0.6694\n",
      "Epoch 100/100\n",
      "794/794 [==============================] - 6s 7ms/step - loss: 0.1343 - accuracy: 0.8848 - val_loss: 0.6927 - val_accuracy: 0.6701\n",
      "775/775 [==============================] - 1s 2ms/step - loss: 0.6955 - accuracy: 0.6676\n",
      "Test score: 0.695513129234314\n",
      "Test accuracy: 0.6676344871520996\n"
     ]
    }
   ],
   "source": [
    "import numpy as np\n",
    "from keras import models\n",
    "from keras import layers\n",
    "import keras as keras\n",
    "\n",
    "from sklearn.model_selection import train_test_split\n",
    "train_data, test_data, train_labels, test_labels = train_test_split(xdata_count,ydata_integer, test_size=0.2)\n",
    "\n",
    "#print(test_data)\n",
    "\n",
    "X_train = np.asarray(train_data).astype('float32')\n",
    "X_test = np.asarray(test_data).astype('float32')\n",
    "\n",
    "#print(test_labels)\n",
    "#print(X_train)\n",
    "#print(train_data)\n",
    "\n",
    "y_train = np.asarray(train_labels).astype('float32')\n",
    "y_test = np.asarray(test_labels).astype('float32')\n",
    "\n",
    "#print(X_train)\n",
    "\n",
    "model = models.Sequential()\n",
    "model.add(layers.Dense(128, activation='relu', input_shape=(10000,)))\n",
    "model.add(layers.Dense(64, activation='relu'))\n",
    "model.add(layers.Dense(32, activation='relu'))\n",
    "model.add(layers.Dense(3, activation='sigmoid'))\n",
    "model.compile(optimizer='sgd', loss='binary_crossentropy', metrics=['accuracy'])\n",
    "model.summary()\n",
    "#print(model.get_weights())\n",
    "history = model.fit(X_train, y_train, epochs=100, batch_size=100, validation_split=0.2)\n",
    "\n",
    "# compute loss and accuracy on test data\n",
    "score = model.evaluate(X_test, y_test, verbose=1)\n",
    "print(\"Test score:\", score[0])\n",
    "print(\"Test accuracy:\", score[1])"
   ]
  },
  {
   "cell_type": "code",
   "execution_count": 20,
   "id": "711b75f2",
   "metadata": {},
   "outputs": [
    {
     "name": "stdout",
     "output_type": "stream",
     "text": [
      "Kofusionsmatrix:\n",
      " [[9960 1754  460]\n",
      " [3579 3351 1062]\n",
      " [ 406 1249 2977]]\n",
      "Korrektklassifizierungsrate:\n",
      " 0.6568271634809258\n",
      "Präzision (mikro):\n",
      " 0.6568271634809258\n",
      "Ausbeute (mikro):\n",
      " 0.6568271634809258\n",
      "F1 (mikro):\n",
      " 0.6568271634809258\n"
     ]
    }
   ],
   "source": [
    "import numpy as np\n",
    "from sklearn.model_selection import train_test_split\n",
    "from sklearn.feature_extraction.text import CountVectorizer\n",
    "from sklearn.naive_bayes import MultinomialNB\n",
    "from sklearn.metrics import confusion_matrix, precision_score, recall_score, f1_score, accuracy_score\n",
    "\n",
    "train_data, test_data, train_labels, test_labels = train_test_split(xdata_boolean, ydata, test_size=0.2)\n",
    "\n",
    "\n",
    "X_train = np.asarray(train_data).astype('float32')\n",
    "X_test = np.asarray(test_data).astype('float32') #sa\n",
    "\n",
    "#print(test_labels)\n",
    "\n",
    "#print(X_train)\n",
    "#print(train_data)\n",
    "\n",
    "y_train = np.asarray(train_labels).astype('float32')\n",
    "y_test = np.asarray(test_labels).astype('float32')\n",
    "\n",
    "## Naive Bayes mit additiver Glättung trainieren\n",
    "nb = MultinomialNB(alpha=1.0)\n",
    "nb.fit(X_train, y_train)\n",
    "\n",
    "## Vorhersagen berechnen\n",
    "y_predicted = nb.predict(X_test)\n",
    "\n",
    "## Konfusionsmatrix ausgeben\n",
    "print(\"Kofusionsmatrix:\\n\", confusion_matrix(y_true=y_test, y_pred=y_predicted))\n",
    "\n",
    "## Gütemaße ausgeben\n",
    "print(\"Korrektklassifizierungsrate:\\n\", accuracy_score(y_true=y_test, y_pred=y_predicted))\n",
    "print(\"Präzision (mikro):\\n\", precision_score(y_true=y_test, y_pred=y_predicted, average='micro'))\n",
    "print(\"Ausbeute (mikro):\\n\", recall_score(y_true=y_test, y_pred=y_predicted, average='micro'))\n",
    "print(\"F1 (mikro):\\n\", f1_score(y_true=y_test, y_pred=y_predicted, average='micro'))"
   ]
  },
  {
   "cell_type": "code",
   "execution_count": null,
   "id": "01577cdb",
   "metadata": {},
   "outputs": [],
   "source": []
  }
 ],
 "metadata": {
  "kernelspec": {
   "display_name": "Python 3 (ipykernel)",
   "language": "python",
   "name": "python3"
  },
  "language_info": {
   "codemirror_mode": {
    "name": "ipython",
    "version": 3
   },
   "file_extension": ".py",
   "mimetype": "text/x-python",
   "name": "python",
   "nbconvert_exporter": "python",
   "pygments_lexer": "ipython3",
   "version": "3.9.7"
  }
 },
 "nbformat": 4,
 "nbformat_minor": 5
}
